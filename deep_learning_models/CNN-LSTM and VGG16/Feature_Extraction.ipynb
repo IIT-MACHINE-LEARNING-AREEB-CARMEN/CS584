{
 "cells": [
  {
   "cell_type": "code",
   "execution_count": null,
   "metadata": {},
   "outputs": [],
   "source": [
    "import librosa\n",
    "import librosa.display\n",
    "import IPython.display as ipd\n",
    "import matplotlib.pyplot as plt\n",
    "import numpy as np \n",
    "import os\n",
    "import tqdm\n",
    "import numpy\n",
    "\n",
    "\n",
    "def to_stft(X):\t# -1,513,129,1\n",
    "\tD = lambda x: librosa.stft(x, n_fft=1024, hop_length=512)[:,:,numpy.newaxis]\n",
    "\tf = map(D,X)\n",
    "\treturn numpy.array(numpy.abs(list(f)))\n",
    "\n",
    "def to_melspectrogram(X):\t# -1,128,129,1\n",
    "  D = lambda x: librosa.feature.melspectrogram(x, n_fft=1024, hop_length=512)[:,:,numpy.newaxis]\n",
    "  f= map(D,X)\n",
    "  return numpy.array(list(f))\n",
    "\n",
    "def to_mfcc(X):\n",
    "  D = lambda x: librosa.feature.mfcc(S=librosa.power_to_db(librosa.feature.melspectrogram(x, n_fft=1024, hop_length=512)), n_mfcc=13)[:,:,numpy.newaxis]\n",
    "  f= map(D,X)\n",
    "  return numpy.array(list(f))\n",
    "\n",
    "np_load_old = np.load\n",
    "\n",
    "# modify the default parameters of np.load\n",
    "np.load = lambda *a,**k: np_load_old(*a, allow_pickle=True)\n",
    "\n",
    "print('Data Features')\n",
    "X = numpy.load('/Users/92306/Documents/X_SegData.npy')\n",
    "y = numpy.load('/Users/92306/Documents/y_SegLabel.npy')\n",
    "print(X.shape)\n",
    "\n",
    "X_feat = []\n",
    "y_feat = []\n",
    "\n",
    "for i in tqdm.tqdm(range(0,X.shape[0])):\n",
    "\tX_feat.extend(to_stft(X[i]))\n",
    "\ty_feat.extend(y[i])\n",
    "\n",
    "print(numpy.array(X_feat).shape)\n",
    "print(numpy.array(y_feat).shape)\n",
    "\n",
    "print(\"Saving\")\n",
    "# numpy.save('X_MelSpec.npy',X_feat)\n",
    "# numpy.save('y_MelSpec.npy',y_feat)\n",
    "numpy.save('/Users/92306/Documents/X_Feat.npy',X_feat)\n",
    "numpy.save('/Users/92306/Documents/y_Feat.npy',y_feat)\n",
    "\n"
   ]
  },
  {
   "cell_type": "code",
   "execution_count": 1,
   "metadata": {},
   "outputs": [
    {
     "name": "stdout",
     "output_type": "stream",
     "text": [
      "Data Features\n"
     ]
    },
    {
     "name": "stderr",
     "output_type": "stream",
     "text": [
      "  0%|▏                                                                                | 2/1000 [00:00<01:29, 11.20it/s]"
     ]
    },
    {
     "name": "stdout",
     "output_type": "stream",
     "text": [
      "(1000, 19, 66000)\n"
     ]
    },
    {
     "name": "stderr",
     "output_type": "stream",
     "text": [
      "100%|██████████████████████████████████████████████████████████████████████████████| 1000/1000 [02:54<00:00,  5.72it/s]\n"
     ]
    },
    {
     "name": "stdout",
     "output_type": "stream",
     "text": [
      "(19000, 128, 129, 1)\n",
      "(19000,)\n",
      "Saving\n"
     ]
    }
   ],
   "source": [
    "import librosa\n",
    "import librosa.display\n",
    "import IPython.display as ipd\n",
    "import matplotlib.pyplot as plt\n",
    "import numpy as np \n",
    "import os\n",
    "import tqdm\n",
    "import numpy\n",
    "\n",
    "\n",
    "def to_stft(X):\t# -1,513,129,1\n",
    "\tD = lambda x: librosa.stft(x, n_fft=1024, hop_length=512)[:,:,numpy.newaxis]\n",
    "\tf = map(D,X)\n",
    "\treturn numpy.array(numpy.abs(list(f)))\n",
    "\n",
    "def to_melspectrogram(X):\t# -1,128,129,1\n",
    "  D = lambda x: librosa.feature.melspectrogram(x, n_fft=1024, hop_length=512)[:,:,numpy.newaxis]\n",
    "  f= map(D,X)\n",
    "  return numpy.array(list(f))\n",
    "\n",
    "def to_mfcc(X):\n",
    "  D = lambda x: librosa.feature.mfcc(S=librosa.power_to_db(librosa.feature.melspectrogram(x, n_fft=1024, hop_length=512)), n_mfcc=13)[:,:,numpy.newaxis]\n",
    "  f= map(D,X)\n",
    "  return numpy.array(list(f))\n",
    "\n",
    "np_load_old = np.load\n",
    "\n",
    "# modify the default parameters of np.load\n",
    "np.load = lambda *a,**k: np_load_old(*a, allow_pickle=True)\n",
    "\n",
    "print('Data Features')\n",
    "\n",
    "X = numpy.load('/Users/92306/Documents/X_SegData.npy')\n",
    "y = numpy.load('/Users/92306/Documents/y_SegLabel.npy')\n",
    "print(X.shape)\n",
    "\n",
    "X_feat = []\n",
    "y_feat = []\n",
    "\n",
    "for i in tqdm.tqdm(range(0,X.shape[0])):\n",
    "\tX_feat.extend(to_melspectrogram(X[i]))\n",
    "\ty_feat.extend(y[i])\n",
    "\n",
    "print(numpy.array(X_feat).shape)\n",
    "print(numpy.array(y_feat).shape)\n",
    "\n",
    "print(\"Saving\")\n",
    "numpy.save('/Users/92306/Documents/X_MelSpec.npy',X_feat)\n",
    "numpy.save('/Users/92306/Documents/y_MelSpec.npy',y_feat)\n",
    "\n",
    "\n"
   ]
  }
 ],
 "metadata": {
  "kernelspec": {
   "display_name": "Python 3",
   "language": "python",
   "name": "python3"
  },
  "language_info": {
   "codemirror_mode": {
    "name": "ipython",
    "version": 3
   },
   "file_extension": ".py",
   "mimetype": "text/x-python",
   "name": "python",
   "nbconvert_exporter": "python",
   "pygments_lexer": "ipython3",
   "version": "3.8.3"
  }
 },
 "nbformat": 4,
 "nbformat_minor": 4
}
