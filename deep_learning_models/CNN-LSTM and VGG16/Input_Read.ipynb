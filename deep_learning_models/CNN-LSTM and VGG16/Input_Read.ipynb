{
 "cells": [
  {
   "cell_type": "code",
   "execution_count": null,
   "metadata": {
    "colab": {
     "base_uri": "https://localhost:8080/"
    },
    "id": "h1UJXVmLtlyj",
    "outputId": "e8b94b2d-8901-439b-cf87-db3a09076dd9"
   },
   "outputs": [],
   "source": [
    "#CONNECT TO GOOGLE DRIVE\n",
    "from google.colab import drive\n",
    "drive.mount('/content/drive')"
   ]
  },
  {
   "cell_type": "code",
   "execution_count": 3,
   "metadata": {},
   "outputs": [
    {
     "name": "stdout",
     "output_type": "stream",
     "text": [
      "Collecting package metadata (current_repodata.json): ...working... done\n",
      "Solving environment: ...working... done\n",
      "\n",
      "# All requested packages already installed.\n",
      "\n",
      "\n",
      "Note: you may need to restart the kernel to use updated packages.\n"
     ]
    }
   ],
   "source": [
    "conda install -c conda-forge tqdm"
   ]
  },
  {
   "cell_type": "code",
   "execution_count": 4,
   "metadata": {
    "id": "3zt5C_ZUtr6z"
   },
   "outputs": [],
   "source": [
    "import librosa\n",
    "import librosa.display\n",
    "import IPython.display as ipd\n",
    "import matplotlib.pyplot as plt\n",
    "import numpy as np \n",
    "import os\n",
    "import tqdm\n",
    "import numpy"
   ]
  },
  {
   "cell_type": "code",
   "execution_count": null,
   "metadata": {
    "colab": {
     "base_uri": "https://localhost:8080/"
    },
    "id": "LVTZYP4ztl5J",
    "outputId": "68a1fcc6-6d43-4b62-d45b-0abad4fdd307"
   },
   "outputs": [],
   "source": [
    "#the folder with the audio files is uploaded in dropbox and it is compresed \n",
    "!wget https://www.dropbox.com/s/ywf59s5uljcotwd/GTZAN.zip?dl=1"
   ]
  },
  {
   "cell_type": "code",
   "execution_count": null,
   "metadata": {
    "colab": {
     "base_uri": "https://localhost:8080/"
    },
    "id": "aAoFeAFYKY2i",
    "outputId": "2e22a561-d117-452e-d383-6d1bb1de2b99"
   },
   "outputs": [],
   "source": [
    "!unzip /content/GTZAN.zip?dl=1"
   ]
  },
  {
   "cell_type": "code",
   "execution_count": 5,
   "metadata": {
    "id": "S_GyNUOGuai_"
   },
   "outputs": [],
   "source": [
    "dataset_path = 'c:/genres_original'\n",
    "genre_label = {}\n",
    "label_value = 0\n",
    "\n",
    "'''\n",
    "@description: Assigning the folder string as label value\n",
    "'''\n",
    "for folder in os.listdir(dataset_path):\n",
    "\tgenre_label[folder] = label_value\n",
    "\tlabel_value += 1\n",
    "\n"
   ]
  },
  {
   "cell_type": "code",
   "execution_count": 10,
   "metadata": {
    "colab": {
     "base_uri": "https://localhost:8080/"
    },
    "id": "9Ruxou8hEWaJ",
    "outputId": "1ce0a9e8-1a95-4c9f-8abf-92cf274414e0"
   },
   "outputs": [
    {
     "name": "stdout",
     "output_type": "stream",
     "text": [
      "\n",
      " Processing blues\n",
      "\n",
      " Processing classical\n",
      "\n",
      " Processing country\n",
      "\n",
      " Processing disco\n",
      "\n",
      " Processing hiphop\n",
      "\n",
      " Processing jazz\n",
      "cant load file: jazz.00054.wav\n",
      "\n",
      " Processing metal\n",
      "\n",
      " Processing pop\n",
      "\n",
      " Processing reggae\n",
      "\n",
      " Processing rock\n",
      "Saving\n"
     ]
    }
   ],
   "source": [
    "dataset_path = 'c:/genres_original'\n",
    "\n",
    "X = []\n",
    "y = []\n",
    "n_rates = 660000\n",
    "#loop through all genres \n",
    "for i, (dirpath, dirnames, filesnames) in enumerate(os.walk(dataset_path)):\n",
    "  #check that we're not in root label \n",
    "  if dirpath is not dataset_path: \n",
    "\n",
    "    #save the semantic label (mapping): classical, blues, etc.\n",
    "    dirpath_components = dirpath.split('\\\\') #genre/blues -> ['genre', 'blues']\n",
    "    semantic_label = dirpath_components[-1]\n",
    "    #data['mapping'].append(semantic_label)\n",
    "    print('\\n Processing {}'.format(semantic_label))\n",
    "\n",
    "    #process files for each genre\n",
    "    for f in filesnames:\n",
    "\n",
    "      #load audio file\n",
    "      file_path = os.path.join(dirpath, f)\n",
    "      try:\n",
    "        signal, sr = librosa.load(file_path) #sr sample rate\n",
    "        signal = signal[:n_rates]\n",
    "      except:\n",
    "        print('cant load file:', f)\n",
    "      \n",
    "      X.append(signal)\n",
    "      y.append(genre_label[semantic_label])\n",
    "\n",
    "print('Saving')\n",
    "numpy.save('/Users/92306/Documents/X_Data.npy',X)\n",
    "numpy.save('/Users/92306/Documents/y_Label.npy',y)"
   ]
  }
 ],
 "metadata": {
  "accelerator": "TPU",
  "colab": {
   "collapsed_sections": [],
   "name": "Untitled7.ipynb",
   "provenance": []
  },
  "kernelspec": {
   "display_name": "Python 3",
   "language": "python",
   "name": "python3"
  },
  "language_info": {
   "codemirror_mode": {
    "name": "ipython",
    "version": 3
   },
   "file_extension": ".py",
   "mimetype": "text/x-python",
   "name": "python",
   "nbconvert_exporter": "python",
   "pygments_lexer": "ipython3",
   "version": "3.8.3"
  }
 },
 "nbformat": 4,
 "nbformat_minor": 1
}
