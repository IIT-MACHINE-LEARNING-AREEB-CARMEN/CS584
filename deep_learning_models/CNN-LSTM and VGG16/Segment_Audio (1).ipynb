{
 "cells": [
  {
   "cell_type": "code",
   "execution_count": 1,
   "metadata": {},
   "outputs": [
    {
     "name": "stdout",
     "output_type": "stream",
     "text": [
      "Data Segment..\n"
     ]
    },
    {
     "name": "stderr",
     "output_type": "stream",
     "text": [
      "100%|█████████████████████████████████████████████████████████████████████████████| 1000/1000 [00:01<00:00, 680.24it/s]\n"
     ]
    },
    {
     "name": "stdout",
     "output_type": "stream",
     "text": [
      "Number of Segment in each song:(19, 66000), and with labelsL:(19,)\n"
     ]
    }
   ],
   "source": [
    "import librosa\n",
    "import librosa.display\n",
    "import IPython.display as ipd\n",
    "import matplotlib.pyplot as plt\n",
    "import numpy as np \n",
    "import os\n",
    "import tqdm\n",
    "import numpy\n",
    "\n",
    "def audio_segment(X, y, window_size=0.1, overlap=0.5):\n",
    "\tS_X = []\n",
    "\tS_y = []\n",
    "\ttotal_sample = X.shape[0]\n",
    "\t# print('Total samples:{0}'.format(total_sample))\n",
    "\n",
    "\tnumber_windows = int(total_sample * window_size)\n",
    "\t# print('Total windows:{0}'.format(number_windows))\n",
    "\n",
    "\tnumber_overlap = int(number_windows * overlap)\n",
    "\t# print('Total overlap:{0}'.format(number_overlap))\n",
    "\n",
    "\tfor i in range(0,total_sample-number_windows+number_overlap,number_overlap):\n",
    "\t\tS_X.append(X[i:i+number_windows])\n",
    "\t\tS_y.append(y)\n",
    "\n",
    "\treturn numpy.array(S_X), numpy.array(S_y)\n",
    "\n",
    "print('Data Segment..')\n",
    "\n",
    "np_load_old = np.load\n",
    "\n",
    "# modify the default parameters of np.load\n",
    "np.load = lambda *a,**k: np_load_old(*a, allow_pickle=True)\n",
    "\n",
    "X = numpy.load('/Users/92306/Documents/X_Data.npy')\n",
    "y = numpy.load('/Users/92306/Documents/y_Label.npy')\n",
    "\n",
    "Seg_X = []\n",
    "Seg_y = []\n",
    "\n",
    "'''\n",
    "@description: Each songs is segmented with respect to windows size and overlap\n",
    "'''\n",
    "for i in tqdm.tqdm(range(X.shape[0])):\n",
    "\tdata_X, data_y = audio_segment(X[i], y[i])\n",
    "\tSeg_X.append(data_X)\n",
    "\tSeg_y.append(data_y)\n",
    "\n",
    "print('Number of Segment in each song:{0}, and with labelsL:{1}'.format(data_X.shape, data_y.shape))\n",
    "\n",
    "Seg_X = numpy.array(Seg_X)\n",
    "Seg_y = numpy.array(Seg_y)\n",
    "numpy.save('/Users/92306/Documents/X_SegData.npy',Seg_X)\n",
    "numpy.save('/Users/92306/Documents/y_SegLabel.npy',Seg_y)"
   ]
  }
 ],
 "metadata": {
  "kernelspec": {
   "display_name": "Python 3",
   "language": "python",
   "name": "python3"
  },
  "language_info": {
   "codemirror_mode": {
    "name": "ipython",
    "version": 3
   },
   "file_extension": ".py",
   "mimetype": "text/x-python",
   "name": "python",
   "nbconvert_exporter": "python",
   "pygments_lexer": "ipython3",
   "version": "3.8.3"
  }
 },
 "nbformat": 4,
 "nbformat_minor": 4
}
