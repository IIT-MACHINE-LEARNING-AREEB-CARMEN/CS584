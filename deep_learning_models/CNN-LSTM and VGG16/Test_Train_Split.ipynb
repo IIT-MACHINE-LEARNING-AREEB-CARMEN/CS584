{
 "cells": [
  {
   "cell_type": "code",
   "execution_count": 9,
   "metadata": {},
   "outputs": [
    {
     "name": "stdout",
     "output_type": "stream",
     "text": [
      "Saving..\n"
     ]
    }
   ],
   "source": [
    "import numpy\n",
    "from sklearn.model_selection import train_test_split\n",
    "import tensorflow as tf\n",
    "from keras import utils\n",
    "import librosa\n",
    "import librosa.display\n",
    "import IPython.display as ipd\n",
    "import matplotlib.pyplot as plt\n",
    "import numpy as np \n",
    "import os\n",
    "import tqdm\n",
    "import numpy\n",
    "\n",
    "X = numpy.load('/Users/92306/Documents/X_Feat.npy')\n",
    "y = numpy.load('/Users/92306/Documents/y_Feat.npy')\n",
    "\n",
    "y = utils.to_categorical(y)\n",
    "\n",
    "X_train, X_test, y_train, y_test = train_test_split(X,y,random_state=42,test_size=0.1, stratify=y)\n",
    "X_train, X_valid, y_train, y_valid = train_test_split(X_train,y_train,random_state=42,test_size=0.22, stratify=y_train)\n",
    "\n",
    "print('Saving..')\n",
    "numpy.save('/Users/92306/Documents/Train_Data_S.npy',X_train)\n",
    "numpy.save('/Users/92306/Documents/Train_Label_S.npy',y_train)\n",
    "numpy.save('/Users/92306/Documents/Test_Data_S.npy',X_test)\n",
    "numpy.save('/Users/92306/Documents/Test_Label_S.npy',y_test)\n",
    "numpy.save('/Users/92306/Documents/Valid_Data_S.npy',X_valid)\n",
    "numpy.save('/Users/92306/Documents/Valid_Label_S.npy',y_valid)"
   ]
  },
  {
   "cell_type": "code",
   "execution_count": 14,
   "metadata": {},
   "outputs": [
    {
     "name": "stdout",
     "output_type": "stream",
     "text": [
      "Saving..\n"
     ]
    }
   ],
   "source": [
    "import numpy\n",
    "from sklearn.model_selection import train_test_split\n",
    "import tensorflow as tf\n",
    "from keras import utils\n",
    "import librosa\n",
    "import librosa.display\n",
    "import IPython.display as ipd\n",
    "import matplotlib.pyplot as plt\n",
    "import numpy as np \n",
    "import os\n",
    "import tqdm\n",
    "import numpy\n",
    "\n",
    "X = numpy.load('/Users/92306/Documents/X_MelSpec.npy')\n",
    "y = numpy.load('/Users/92306/Documents/y_MelSpec.npy')\n",
    "\n",
    "y = utils.to_categorical(y)\n",
    "\n",
    "X_train, X_test, y_train, y_test = train_test_split(X,y,random_state=42,test_size=0.1, stratify=y)\n",
    "X_train, X_valid, y_train, y_valid = train_test_split(X_train,y_train,random_state=42,test_size=0.22, stratify=y_train)\n",
    "\n",
    "print('Saving..')\n",
    "numpy.save('/Users/92306/Documents/Train_Data_C.npy',X_train)\n",
    "numpy.save('/Users/92306/Documents/Train_Label_C.npy',y_train)\n",
    "numpy.save('/Users/92306/Documents/Test_Data_C.npy',X_test)\n",
    "numpy.save('/Users/92306/Documents/Test_Label_C.npy',y_test)\n",
    "numpy.save('/Users/92306/Documents/Valid_Data_C.npy',X_valid)\n",
    "numpy.save('/Users/92306/Documents/Valid_Label_C.npy',y_valid)"
   ]
  }
 ],
 "metadata": {
  "kernelspec": {
   "display_name": "Python 3",
   "language": "python",
   "name": "python3"
  },
  "language_info": {
   "codemirror_mode": {
    "name": "ipython",
    "version": 3
   },
   "file_extension": ".py",
   "mimetype": "text/x-python",
   "name": "python",
   "nbconvert_exporter": "python",
   "pygments_lexer": "ipython3",
   "version": "3.8.3"
  }
 },
 "nbformat": 4,
 "nbformat_minor": 4
}
